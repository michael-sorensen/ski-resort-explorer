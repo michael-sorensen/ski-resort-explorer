{
 "cells": [
  {
   "cell_type": "code",
   "execution_count": 1,
   "id": "95bafb1b",
   "metadata": {},
   "outputs": [],
   "source": [
    "import requests\n",
    "import pandas as pd\n",
    "import json\n",
    "from pprint import pprint\n",
    "from bs4 import BeautifulSoup"
   ]
  },
  {
   "cell_type": "code",
   "execution_count": null,
   "id": "56d8db30",
   "metadata": {},
   "outputs": [],
   "source": []
  },
  {
   "cell_type": "code",
   "execution_count": null,
   "id": "9e6f7d16",
   "metadata": {},
   "outputs": [],
   "source": [
    "links_list = []\n",
    "# Select page region to use\n",
    "for url in url_list:\n",
    "    response = requests.get(url)\n",
    "    soup = BeautifulSoup(response.text, 'html.parser')\n",
    "    resorts_div = soup.findAll('div', class_='styles_resortsList__3pFyu')\n",
    "    for elm in resorts_div:\n",
    "        for resort_div in elm.find_all('a'):\n",
    "            links_list.append(resort_div.get('href'))\n",
    "            \n",
    "links_list"
   ]
  },
  {
   "cell_type": "code",
   "execution_count": 3,
   "id": "4bb321c7",
   "metadata": {},
   "outputs": [],
   "source": [
    "url_list = ['https://www.skiresort.info/ski-resort/niseko-united-annupurigrand-hirafuhanazononiseko-village/']"
   ]
  },
  {
   "cell_type": "code",
   "execution_count": 33,
   "id": "4d617b3c",
   "metadata": {},
   "outputs": [
    {
     "name": "stdout",
     "output_type": "stream",
     "text": [
      "<bound method Tag.get_text of <div class=\"panel-simple more-padding\"> <div class=\"panel-image\"> <figure> <a class=\"fancybox with-magnifier js-image-gallery\" data-image-height=\"700\" data-image-width=\"933\" href=\"typo3temp/_processed_/73/36/62/29/7bd54cfe41.jpg\" onclick=\"return false;\" rel=\"gallery1\" title=\"The ski resort of Niseko with a view of Yōtei-zan\"> <img alt=\"The ski resort of Niseko with a view of Yōtei-zan\" height=\"430\" src=\"typo3temp/assets/_processed_/73/36/62/29/114092f0f6.jpg\" title=\"The ski resort of Niseko with a view of Yōtei-zan\" width=\"578\"> <span class=\"with-count\">1/59</span> </img></a> </figure> <div class=\"image-description\"> <h2 class=\"h3\"><p class=\"bodytext\">Skiing Niseko United – Annupuri/​​Grand Hirafu/​​Hanazono/​​Niseko Village</p></h2> </div> </div> <a class=\"fancybox js-image-gallery\" data-image-height=\"700\" data-image-width=\"933\" href=\"typo3temp/_processed_/51/17/7b/be/4b4fbfdf22.jpg\" onclick=\"return false;\" rel=\"gallery1\" style=\"display:none;\" title=\"Crossing between Niseko Village and Grand Hirafu\"></a> <a class=\"fancybox js-image-gallery\" data-image-height=\"700\" data-image-width=\"933\" href=\"typo3temp/_processed_/38/83/3b/b5/0d0031b3c4.jpg\" onclick=\"return false;\" rel=\"gallery1\" style=\"display:none;\" title=\"Slopes in the Grand Hirafu area\"></a> <a class=\"fancybox js-image-gallery\" data-image-height=\"700\" data-image-width=\"933\" href=\"typo3temp/_processed_/e2/25/58/8a/ad68877d5a.jpg\" onclick=\"return false;\" rel=\"gallery1\" style=\"display:none;\" title=\"Run to Niseko Village\"></a> <a class=\"fancybox js-image-gallery\" data-image-height=\"700\" data-image-width=\"933\" href=\"typo3temp/_processed_/8c/c1/1b/b2/f8ff1dd41a.jpg\" onclick=\"return false;\" rel=\"gallery1\" style=\"display:none;\" title=\"View from the highest point in the ski resort\"></a> <a class=\"fancybox js-image-gallery\" data-image-height=\"700\" data-image-width=\"934\" href=\"typo3temp/_processed_/02/28/87/73/3c84ab6d68.jpg\" onclick=\"return false;\" rel=\"gallery1\" style=\"display:none;\" title=\"Sunrise on the Yōtei-zan\"></a> <a class=\"fancybox js-image-gallery\" data-image-height=\"700\" data-image-width=\"933\" href=\"typo3temp/_processed_/4c/c0/05/5c/1210412e75.jpg\" onclick=\"return false;\" rel=\"gallery1\" style=\"display:none;\" title=\"View from Hanazono base station of Mt. Niseko Annupuri\"></a> <a class=\"fancybox js-image-gallery\" data-image-height=\"700\" data-image-width=\"933\" href=\"typo3temp/_processed_/75/55/56/6a/3c9f317ee5.jpg\" onclick=\"return false;\" rel=\"gallery1\" style=\"display:none;\" title=\"View of the ski resort of Niseko United\"></a> <a class=\"fancybox js-image-gallery\" data-image-height=\"700\" data-image-width=\"933\" href=\"typo3temp/_processed_/da/a6/64/47/27d1938cfd.jpg\" onclick=\"return false;\" rel=\"gallery1\" style=\"display:none;\" title=\"Youtei Sunset intermediate slope (Hanazono)\"></a> <a class=\"fancybox js-image-gallery\" data-image-height=\"700\" data-image-width=\"933\" href=\"typo3temp/_processed_/13/3e/e3/32/229540a180.jpg\" onclick=\"return false;\" rel=\"gallery1\" style=\"display:none;\" title=\"Center intermediate slope (Grand Hirafu)\"></a> <a class=\"fancybox js-image-gallery\" data-image-height=\"700\" data-image-width=\"934\" href=\"typo3temp/_processed_/23/34/46/64/9573a20435.jpg\" onclick=\"return false;\" rel=\"gallery1\" style=\"display:none;\" title=\"Champion difficult slope (Annupuri)\"></a> <a class=\"fancybox js-image-gallery\" data-image-height=\"700\" data-image-width=\"933\" href=\"typo3temp/_processed_/28/8d/da/a8/af1cd9ce24.jpg\" onclick=\"return false;\" rel=\"gallery1\" style=\"display:none;\" title=\"Dynamic difficult slope (Grand Hirafu)\"></a> <a class=\"fancybox js-image-gallery\" data-image-height=\"700\" data-image-width=\"933\" href=\"typo3temp/_processed_/8a/ac/cf/ff/55abc9eb40.jpg\" onclick=\"return false;\" rel=\"gallery1\" style=\"display:none;\" title=\"Final Fling easy slope (Niseko Village)\"></a> <a class=\"fancybox js-image-gallery\" data-image-height=\"700\" data-image-width=\"933\" href=\"typo3temp/_processed_/80/0c/c2/2a/d927d041a9.jpg\" onclick=\"return false;\" rel=\"gallery1\" style=\"display:none;\" title=\"Kogen valley run (Grand Hirafu)\"></a> <a class=\"fancybox js-image-gallery\" data-image-height=\"700\" data-image-width=\"933\" href=\"typo3temp/_processed_/d9/95/5e/eb/74cf089d5c.jpg\" onclick=\"return false;\" rel=\"gallery1\" style=\"display:none;\" title=\"Kogen valley run (Grand Hirafu)\"></a> <a class=\"fancybox js-image-gallery\" data-image-height=\"700\" data-image-width=\"933\" href=\"typo3temp/_processed_/48/83/37/7f/8f0ed0f370.jpg\" onclick=\"return false;\" rel=\"gallery1\" style=\"display:none;\" title=\"Night skiing resort Niseko Grand Hirafu\"></a> <a class=\"fancybox js-image-gallery\" data-image-height=\"700\" data-image-width=\"933\" href=\"typo3temp/_processed_/51/19/95/5e/aef2f06cac.jpg\" onclick=\"return false;\" rel=\"gallery1\" style=\"display:none;\" title=\"Night skiing resort Niseko Grand Hirafu\"></a> <a class=\"fancybox js-image-gallery\" data-image-height=\"700\" data-image-width=\"933\" href=\"typo3temp/_processed_/db/bf/fb/b5/ed1fbbe4d5.jpg\" onclick=\"return false;\" rel=\"gallery1\" style=\"display:none;\" title=\"Village Express - Combined installation (6 pers. chair and 8 pers. gondola)\"></a> <a class=\"fancybox js-image-gallery\" data-image-height=\"700\" data-image-width=\"933\" href=\"typo3temp/_processed_/7f/f4/4b/b4/39e42fbaf4.jpg\" onclick=\"return false;\" rel=\"gallery1\" style=\"display:none;\" title=\"Upper Village Gondola - 8pers. Pulsed-movement aerial ropeway (gondola)\"></a> <a class=\"fancybox js-image-gallery\" data-image-height=\"700\" data-image-width=\"933\" href=\"typo3temp/_processed_/ce/e0/00/03/152d8f8354.jpg\" onclick=\"return false;\" rel=\"gallery1\" style=\"display:none;\" title=\"Niseko Gondola - 6pers. Gondola lift (monocable circulating ropeway)\"></a> <a class=\"fancybox js-image-gallery\" data-image-height=\"700\" data-image-width=\"933\" href=\"typo3temp/_processed_/cd/de/eb/bc/0403105786.jpg\" onclick=\"return false;\" rel=\"gallery1\" style=\"display:none;\" title=\"Wonderland Chair A - 1pers. Chairlift (fixed-grip)\"></a> <a class=\"fancybox js-image-gallery\" data-image-height=\"700\" data-image-width=\"933\" href=\"typo3temp/_processed_/5f/fe/e2/23/401a4370d6.jpg\" onclick=\"return false;\" rel=\"gallery1\" style=\"display:none;\" title=\"Wonderland Chair B - 1pers. Chairlift (fixed-grip)\"></a> <a class=\"fancybox js-image-gallery\" data-image-height=\"700\" data-image-width=\"933\" href=\"typo3temp/_processed_/c1/1a/a2/2c/95a22402a8.jpg\" onclick=\"return false;\" rel=\"gallery1\" style=\"display:none;\" title=\"Community Chair - 2pers. Chairlift (fixed-grip)\"></a> <a class=\"fancybox js-image-gallery\" data-image-height=\"700\" data-image-width=\"933\" href=\"typo3temp/_processed_/1c/c9/9f/f1/b7887eb0fc.jpg\" onclick=\"return false;\" rel=\"gallery1\" style=\"display:none;\" title=\"Mori-no Chair - 2pers. Chairlift (fixed-grip)\"></a> <a class=\"fancybox js-image-gallery\" data-image-height=\"700\" data-image-width=\"933\" href=\"typo3temp/_processed_/a8/85/50/00/039f33c696.jpg\" onclick=\"return false;\" rel=\"gallery1\" style=\"display:none;\" title=\"Abundant snow in Niseko Village\"></a> <a class=\"fancybox js-image-gallery\" data-image-height=\"700\" data-image-width=\"933\" href=\"typo3temp/_processed_/54/41/16/6f/7d69f22a16.jpg\" onclick=\"return false;\" rel=\"gallery1\" style=\"display:none;\" title=\"Perfectly groomed slope in Hanazono\"></a> <a class=\"fancybox js-image-gallery\" data-image-height=\"700\" data-image-width=\"933\" href=\"typo3temp/_processed_/31/16/6f/f6/6cd726a78b.jpg\" onclick=\"return false;\" rel=\"gallery1\" style=\"display:none;\" title=\"Perfectly groomed slope in Grand Hirafu\"></a> <a class=\"fancybox js-image-gallery\" data-image-height=\"700\" data-image-width=\"933\" href=\"typo3temp/_processed_/43/33/30/0d/a08ff0be5a.jpg\" onclick=\"return false;\" rel=\"gallery1\" style=\"display:none;\" title=\"Comfortable private travel with SkyExpress\"></a> <a class=\"fancybox js-image-gallery\" data-image-height=\"700\" data-image-width=\"933\" href=\"typo3temp/_processed_/b8/84/49/9a/f969e62328.jpg\" onclick=\"return false;\" rel=\"gallery1\" style=\"display:none;\" title=\"Slope signposting in the Hanazono area\"></a> <a class=\"fancybox js-image-gallery\" data-image-height=\"700\" data-image-width=\"932\" href=\"typo3temp/_processed_/d8/8e/e6/6c/5853adb002.jpg\" onclick=\"return false;\" rel=\"gallery1\" style=\"display:none;\" title=\"Piste map in the ski resort of Niseko\"></a> <a class=\"fancybox js-image-gallery\" data-image-height=\"700\" data-image-width=\"933\" href=\"typo3temp/_processed_/3c/ce/eb/b5/5731744665.jpg\" onclick=\"return false;\" rel=\"gallery1\" style=\"display:none;\" title=\"Very well-maintained ticket desk area in Grand Hirafu\"></a> <a class=\"fancybox js-image-gallery\" data-image-height=\"700\" data-image-width=\"933\" href=\"typo3temp/_processed_/a6/6e/ea/a9/ee9f7a0d86.jpg\" onclick=\"return false;\" rel=\"gallery1\" style=\"display:none;\" title=\"Waste sorting in the ski resort of Niseko United\"></a> <a class=\"fancybox js-image-gallery\" data-image-height=\"700\" data-image-width=\"933\" href=\"typo3temp/_processed_/86/63/31/15/3837a83f2f.jpg\" onclick=\"return false;\" rel=\"gallery1\" style=\"display:none;\" title=\"Friendly staff assist with boarding at the gondola lift\"></a> <a class=\"fancybox js-image-gallery\" data-image-height=\"700\" data-image-width=\"933\" href=\"typo3temp/_processed_/6e/e6/6e/e6/77a2f5432e.jpg\" onclick=\"return false;\" rel=\"gallery1\" style=\"display:none;\" title=\"Gastronomy tip Yang Shu Ten\"></a> <a class=\"fancybox js-image-gallery\" data-image-height=\"700\" data-image-width=\"933\" href=\"typo3temp/_processed_/fa/a9/90/0e/1a943396cd.jpg\" onclick=\"return false;\" rel=\"gallery1\" style=\"display:none;\" title=\"Gastronomy tip Asperges Restaurant\"></a> <a class=\"fancybox js-image-gallery\" data-image-height=\"700\" data-image-width=\"933\" href=\"typo3temp/_processed_/ea/a8/8c/c1/fcb685e847.jpg\" onclick=\"return false;\" rel=\"gallery1\" style=\"display:none;\" title=\"Gastronomy tip 308 Restaurant &amp; Café\"></a> <a class=\"fancybox js-image-gallery\" data-image-height=\"700\" data-image-width=\"933\" href=\"typo3temp/_processed_/31/1b/b2/20/11ea527859.jpg\" onclick=\"return false;\" rel=\"gallery1\" style=\"display:none;\" title=\"Gastronomy tip The Crab Shack\"></a> <a class=\"fancybox js-image-gallery\" data-image-height=\"700\" data-image-width=\"933\" href=\"typo3temp/_processed_/41/18/86/62/37ede043cf.jpg\" onclick=\"return false;\" rel=\"gallery1\" style=\"display:none;\" title=\"Mountain hut tip Boyo-so\"></a> <a class=\"fancybox js-image-gallery\" data-image-height=\"700\" data-image-width=\"934\" href=\"typo3temp/_processed_/41/15/5a/ac/e19826539c.jpg\" onclick=\"return false;\" rel=\"gallery1\" style=\"display:none;\" title=\"Mountain hut tip Paradise Hut/Bear's Café\"></a> <a class=\"fancybox js-image-gallery\" data-image-height=\"700\" data-image-width=\"932\" href=\"typo3temp/_processed_/29/9f/f5/54/5a131189f9.jpg\" onclick=\"return false;\" rel=\"gallery1\" style=\"display:none;\" title=\"Restaurants in Niseko Village\"></a> <a class=\"fancybox js-image-gallery\" data-image-height=\"700\" data-image-width=\"933\" href=\"typo3temp/_processed_/27/77/7b/bb/29537d0b30.jpg\" onclick=\"return false;\" rel=\"gallery1\" style=\"display:none;\" title=\"Restaurant Ace Hill\"></a> <a class=\"fancybox js-image-gallery\" data-image-height=\"700\" data-image-width=\"933\" href=\"typo3temp/_processed_/97/74/4d/d6/2ec02deb50.jpg\" onclick=\"return false;\" rel=\"gallery1\" style=\"display:none;\" title=\"Après-ski in the Grand Hirafu Mountain Center\"></a> <a class=\"fancybox js-image-gallery\" data-image-height=\"700\" data-image-width=\"933\" href=\"typo3temp/_processed_/7b/b3/3c/c4/33d4bd7c0c.jpg\" onclick=\"return false;\" rel=\"gallery1\" style=\"display:none;\" title=\"Après-Ski in 308 in Hanazono Resort\"></a> <a class=\"fancybox js-image-gallery\" data-image-height=\"700\" data-image-width=\"934\" href=\"typo3temp/_processed_/d8/8b/bd/dc/d71503130b.jpg\" onclick=\"return false;\" rel=\"gallery1\" style=\"display:none;\" title=\"View of accommodation in Hirafu Village and Yamada\"></a> <a class=\"fancybox js-image-gallery\" data-image-height=\"700\" data-image-width=\"933\" href=\"typo3temp/_processed_/83/3b/bf/f6/4831209fb0.jpg\" onclick=\"return false;\" rel=\"gallery1\" style=\"display:none;\" title=\"Skye Niseko Hotel\"></a> <a class=\"fancybox js-image-gallery\" data-image-height=\"700\" data-image-width=\"933\" href=\"typo3temp/_processed_/ec/ce/e5/58/a7adc82358.jpg\" onclick=\"return false;\" rel=\"gallery1\" style=\"display:none;\" title=\"Tip for children - Kids Park Grand Hirafu operated by the GoSnow ski school\"></a> <a class=\"fancybox js-image-gallery\" data-image-height=\"700\" data-image-width=\"933\" href=\"typo3temp/_processed_/c8/81/1d/d4/d93f4932ec.jpg\" onclick=\"return false;\" rel=\"gallery1\" style=\"display:none;\" title=\"Tip for children - Kids Land Hanazono\"></a> <a class=\"fancybox js-image-gallery\" data-image-height=\"700\" data-image-width=\"933\" href=\"typo3temp/_processed_/38/8d/d0/0f/52fc32be63.jpg\" onclick=\"return false;\" rel=\"gallery1\" style=\"display:none;\" title=\"Tip for children - Kids Land Annupuri\"></a> <a class=\"fancybox js-image-gallery\" data-image-height=\"700\" data-image-width=\"933\" href=\"typo3temp/_processed_/6c/c3/34/44/400870e8dc.jpg\" onclick=\"return false;\" rel=\"gallery1\" style=\"display:none;\" title=\"Tip for children - Kamp Kitsune\"></a> <a class=\"fancybox js-image-gallery\" data-image-height=\"700\" data-image-width=\"934\" href=\"typo3temp/_processed_/54/4d/d4/4f/139b75c139.jpg\" onclick=\"return false;\" rel=\"gallery1\" style=\"display:none;\" title=\"GoSnow children's area at the base station of the Hirafu Gondola\"></a> <a class=\"fancybox js-image-gallery\" data-image-height=\"700\" data-image-width=\"933\" href=\"typo3temp/_processed_/59/9c/c0/01/10ca7c9198.jpg\" onclick=\"return false;\" rel=\"gallery1\" style=\"display:none;\" title=\"Hanazono childcare\"></a> <a class=\"fancybox js-image-gallery\" data-image-height=\"700\" data-image-width=\"933\" href=\"typo3temp/_processed_/c8/8f/fb/bb/5c60ca72a3.jpg\" onclick=\"return false;\" rel=\"gallery1\" style=\"display:none;\" title=\"Practice area operated by the GoSnow ski school in Grand Hirafu\"></a> <a class=\"fancybox js-image-gallery\" data-image-height=\"700\" data-image-width=\"933\" href=\"typo3temp/_processed_/2b/bf/fc/cf/796e94b79b.jpg\" onclick=\"return false;\" rel=\"gallery1\" style=\"display:none;\" title=\"Wide and easy slopes in Hanazono\"></a> <a class=\"fancybox js-image-gallery\" data-image-height=\"700\" data-image-width=\"933\" href=\"typo3temp/_processed_/4e/ea/ab/b8/2597da75d7.jpg\" onclick=\"return false;\" rel=\"gallery1\" style=\"display:none;\" title=\"Dynamic difficult slope\"></a> <a class=\"fancybox js-image-gallery\" data-image-height=\"700\" data-image-width=\"933\" href=\"typo3temp/_processed_/dd/d4/46/6b/37413b776a.jpg\" onclick=\"return false;\" rel=\"gallery1\" style=\"display:none;\" title=\"Powder paradise in Niseko\"></a> <a class=\"fancybox js-image-gallery\" data-image-height=\"700\" data-image-width=\"932\" href=\"typo3temp/_processed_/ce/e9/97/7a/22924b506c.jpg\" onclick=\"return false;\" rel=\"gallery1\" style=\"display:none;\" title=\"Free Ride Park Hirafu\"></a> <a class=\"fancybox js-image-gallery\" data-image-height=\"700\" data-image-width=\"933\" href=\"typo3temp/_processed_/3f/f6/6b/b3/1037416b31.jpg\" onclick=\"return false;\" rel=\"gallery1\" style=\"display:none;\" title=\"Free Ride Park Hirafu\"></a> <a class=\"fancybox js-image-gallery\" data-image-height=\"700\" data-image-width=\"933\" href=\"typo3temp/_processed_/17/73/3d/d6/8721dbd841.jpg\" onclick=\"return false;\" rel=\"gallery1\" style=\"display:none;\" title=\"Hanazono Park\"></a> <a class=\"fancybox js-image-gallery\" data-image-height=\"700\" data-image-width=\"933\" href=\"typo3temp/_processed_/d7/72/2b/b5/595cd7a147.jpg\" onclick=\"return false;\" rel=\"gallery1\" style=\"display:none;\" title=\"Hanazono Park\"></a> <div class=\"content-resort-booking-teaser visible-xs clone-booking-teaser hidden\"> <div class=\"fadeout-right\"></div> <ul class=\"list-inline content-resort-booking-teaser-inline lightbox-teaser\"> <li> <a aria-label=\"Accommodation\" class=\"icon-teaser\" href=\"https://www.skiresort.info/ski-resort/niseko-united-annupurigrand-hirafuhanazononiseko-village/accommodations/\"> <i class=\"resort-list-item-icon icon-uE005-bed\"></i></a> <a aria-label=\"Accommodation\" class=\"next-link\" href=\"https://www.skiresort.info/ski-resort/niseko-united-annupurigrand-hirafuhanazononiseko-village/accommodations/\">Accommodation</a></li> </ul> </div> <p>The ski resort <strong>Niseko United – Annupuri/​Grand Hirafu/​Hanazono/​Niseko Village</strong> is located on <a href=\"https://www.skiresort.info/ski-resorts/hokkaido/\"><strong>Hokkaido</strong></a> (<a href=\"https://www.skiresort.info/ski-resorts/japan/\">Japan</a>). For skiing and snowboarding, there are <a href=\"https://www.skiresort.info/ski-resort/niseko-united-annupurigrand-hirafuhanazononiseko-village/slope-offering/\">50.8 km of slopes</a> available. <a href=\"https://www.skiresort.info/ski-resort/niseko-united-annupurigrand-hirafuhanazononiseko-village/ski-lifts/\">32 lifts</a> transport the guests. The winter sports area is situated between the elevations of 255 and 1,188 m. </p> <p class=\"p_before_list\" id=\"selText\"> <span class=\"croped\">Niseko United is made up of four linked ski resorts on the slopes of the volcano Niseko Annupuri (1,308 metres). The resort of Hanazono is located in the north, followed, in a clockwise direction, by Niseko Grand Hirafu and Niseko Village. Finally, there is Niseko Annupuri on the south face of the</span><a class=\"js-show-more-text\" href=\"javascript:void(0)\"> read more<i class=\"fa fa-caret-down\"></i></a><span class=\"js-more-text hidden\">Niseko United is made up of four linked ski resorts on the slopes of the volcano Niseko Annupuri (1,308 metres). The resort of Hanazono is located in the north, followed, in a clockwise direction, by Niseko Grand Hirafu and Niseko Village. Finally, there is Niseko Annupuri on the south face of the mountain. The slopes for skiing and snowboarding are located mainly below the treeline and offer beautiful views of the Yōtei-zan volcano. The resort's geographical location ensures abundant natural snowfall and Niseko United has earned a reputation as a powder paradise. All skiing disciplines and a wide selection of other winter sports activities are available in Niseko United.<br/> </span> </p> <a class=\"shaded testreport-stars detail-links content-booking link-img\" href=\"https://www.skiresort.info/ski-resort/niseko-united-annupurigrand-hirafuhanazononiseko-village/test-report/\"> <div class=\"report-btn\"><i class=\"testbericht\">Test report</i></div> <div class=\"report-rating\"> <div class=\"\"> <div class=\"rating-list star-wrap stars-big-grey\" title=\"4.4 out of 5 stars\"><div class=\"rating-list js-star-ranking stars-big\" data-rank=\"4.4\" style=\"width: 88%\"></div></div> <span class=\"test\" id=\"selRating\">4.4 out of 5 stars</span> </div> </div> <i class=\"fa fa-chevron-right\"></i> </a> <span itemprop=\"ratingValue\" style=\"display: none\">4.4</span> <div class=\"content-resort-booking-teaser visible-xs content-booking-teaser\"> <div class=\"fadeout-right\"></div> <ul class=\"list-inline content-resort-booking-teaser-inline content-teaser\"> <li> <a aria-label=\"Accommodation\" class=\"icon-teaser\" href=\"https://www.skiresort.info/ski-resort/niseko-united-annupurigrand-hirafuhanazononiseko-village/accommodations/\"> <i class=\"resort-list-item-icon icon-uE005-bed\"></i></a> <a aria-label=\"Accommodation\" class=\"next-link\" href=\"https://www.skiresort.info/ski-resort/niseko-united-annupurigrand-hirafuhanazononiseko-village/accommodations/\">Accommodation</a></li> </ul> </div> <div class=\"detail-links\"> <div class=\"gallery-thumb\"> <a class=\"framed-img inview-element\" data-offset=\"700\" href=\"https://www.skiresort.info/ski-resort/niseko-united-annupurigrand-hirafuhanazononiseko-village/trail-map/\"> <img alt=\"Trail map Niseko United – Annupuri/Grand Hirafu/Hanazono/Niseko Village\" data-src=\"typo3temp/assets/_processed_/24/4e/e1/1b/e2d508c727.jpg\" height=\"90\" src=\"/fileadmin/templatesV2/img/1x1-0000ff7f.png\" title=\"Trail map of the ski resort Niseko United – Annupuri/Grand Hirafu/Hanazono/Niseko Village\" width=\"120\"> <span class=\"slink\">Trail map »</span> </img></a> </div> <div class=\"gallery-thumb webcam-preview\" id=\"wytlivestream480\"> <a class=\"framed-img inview-element\" data-offset=\"700\" href=\"https://www.skiresort.info/ski-resort/niseko-united-annupurigrand-hirafuhanazononiseko-village/webcams/\"> <img alt=\"Webcam Niseko United – Annupuri/Grand Hirafu/Hanazono/Niseko Village\" data-src=\"fileadmin/templatesV2/img/yt-preview-image.jpg\" height=\"90\" src=\"/fileadmin/templatesV2/img/1x1-0000ff7f.png\" title=\"Current webcam photos of the ski resort Niseko United – Annupuri/Grand Hirafu/Hanazono/Niseko Village\" width=\"120\"/> <span class=\"slink\">Webcam »</span> </a> </div> <div class=\"gallery-thumb\"> <a class=\"framed-img media inview-element\" data-offset=\"700\" href=\"https://www.skiresort.info/ski-resort/niseko-united-annupurigrand-hirafuhanazononiseko-village/video/\"> <img alt=\"Video Niseko United – Annupuri/Grand Hirafu/Hanazono/Niseko Village\" data-src=\"typo3temp/assets/_processed_/84/41/13/35/0e07a4512c.jpg\" height=\"90\" src=\"/fileadmin/templatesV2/img/1x1-0000ff7f.png\" title=\"Video of the ski resort Niseko United – Annupuri/Grand Hirafu/Hanazono/Niseko Village\" width=\"120\"/> <div class=\"play_border play_small\"> <div class=\"play_button\"></div> </div> <span class=\"slink\">Video »</span> </a> </div> <div class=\"gallery-thumb\"> <a class=\"framed-img inview-element\" data-offset=\"700\" href=\"https://www.skiresort.info/ski-resort/niseko-united-annupurigrand-hirafuhanazononiseko-village/photos/\"> <img alt=\"Photos Niseko United – Annupuri/Grand Hirafu/Hanazono/Niseko Village\" data-src=\"typo3temp/_processed_/73/36/62/29/7206531c4f.jpg\" height=\"90\" src=\"/fileadmin/templatesV2/img/1x1-0000ff7f.png\" title=\"Photos of the ski resort Niseko United – Annupuri/Grand Hirafu/Hanazono/Niseko Village\" width=\"120\"/> <span class=\"slink\">Photos »</span> </a> </div> </div> <div class=\"detail-links\"> <h3 class=\"label h5\">Elevation info</h3> <div class=\"description\" id=\"selAlti\"> 255 m - 1188 m (Difference 933 m) </div> </div> <a class=\"detail-links link-img shaded zero-pad-bottom chart\" href=\"https://www.skiresort.info/ski-resort/niseko-united-annupurigrand-hirafuhanazononiseko-village/slope-offering/\"> <div class=\"label\">Ski slopes »</div> <div class=\"description\"> <div><strong id=\"selSlopetot\">Total: 50.8 km</strong></div> <div class=\"table-graph-first\"> <table class=\"run-table fa-pull-left graphbar-table\"> <tr> <td class=\"desc\"><i class=\"fa fa-square blue\"></i>Easy</td> <td class=\"distance\" id=\"selBeginner\">22.4 km</td> <td class=\"percent hidden-xs\">(44 %)</td> </tr> <tr> <td class=\"desc\"><i class=\"fa fa-square red\"></i>Intermediate </td> <td class=\"distance\" id=\"selInter\">18.2 km</td> <td class=\"percent hidden-xs\">(36 %)</td> </tr> <tr> <td class=\"desc\"><i class=\"fa fa-square gray-dark\"></i>Difficult</td> <td class=\"distance\" id=\"selAdv\">10.2 km</td> <td class=\"percent hidden-xs\">(20 %)</td> </tr> </table> </div> <div class=\"table-graph-second\"> <table class=\"graphbar-table run-table\"><tr><td valign=\"center\"><div style=\"width:100%; background-color: #235485\"></div></td></tr> <tr><td valign=\"center\"><div style=\"width:81.25%; background-color: #e82a2a\"></div></td></tr> <tr><td valign=\"center\"><div style=\"width:45.535714285714%; background-color: #333\"></div></td></tr></table> </div> <p class=\"clear\"></p> </div> <i class=\"fa fa-chevron-right\"></i> </a> <a class=\"shaded detail-links link-img no-pad-bottom\" href=\"https://www.skiresort.info/ski-resort/niseko-united-annupurigrand-hirafuhanazononiseko-village/ski-lifts/\"> <div class=\"label\">Ski lifts »</div> <div class=\"description\"> <div class=\"lift-info-group\"> <strong id=\"selLiftstot\">Total: 32</strong><br/> <div class=\"lift-count\" title=\"Circulating ropeway/gondola lift\"> <i class=\"lift-icon lift-icon-eub-0\"></i> <span class=\"lift-amount\">5</span> </div> <div class=\"lift-count\" title=\"Combined installation (gondola and chair)\"> <i class=\"lift-icon lift-icon-kb\"></i> <span class=\"lift-amount\">1</span> </div> <div class=\"lift-count\" title=\"Chairlift\"> <i class=\"lift-icon lift-icon-sb-allgemein\"></i> <span class=\"lift-amount\">26</span> </div> </div> <div class=\"lift-info-group\"> <strong id=\"selLiftsOthers\">Additional</strong><br/> <div class=\"lift-count\" title=\"People mover\"> <i class=\"lift-icon lift-icon-foerderband\"></i> <span class=\"lift-amount\">2</span> </div> <div class=\"lift-count\" title=\"Sunkid Moving Carpet\"> <i class=\"lift-icon lift-icon-sunkid\"></i> <span class=\"lift-amount\">5</span> </div> <div class=\"lift-count\" title=\"Snow caterpillars for Cat-skiing\"> <i class=\"lift-icon lift-icon-catskiing\"></i> </div> </div> </div> <i class=\"fa fa-chevron-right\"></i> </a> <div class=\"detail-links\"> <h3 class=\"label h5\">Ski pass prices</h3> <div class=\"description\"> <strong>Day ticket<br>Main season</br></strong> <table class=\"detail-table\"> <thead> <tr> <th>Adults</th> <th>Youth</th> <th>Children</th> </tr> </thead> <tr> <td id=\"selTicketA\">¥ 8100,- </td> <td id=\"selTicketY\">¥ 6500,-</td> <td id=\"selTicketC\">¥ 4900,-</td> </tr> <tr> <td id=\"selTicketEurA\">approx. € 61,-</td> <td id=\"selTicketEurY\">approx. € 49,-</td> <td id=\"selTicketEurC\">approx. € 37,-</td> </tr> <tbody> </tbody> </table> </div> </div> <a class=\"shaded detail-links link-img\" href=\"https://www.skiresort.info/ski-resort/niseko-united-annupurigrand-hirafuhanazononiseko-village/snow-report/\"> <div class=\"label\">Snow report »</div> <div class=\"description\" id=\"selOpenstatus\"> <span class=\"closed\">Ski resort closed</span> </div> <i class=\"fa fa-chevron-right\"></i> </a> <div class=\"detail-links\"> <h3 class=\"label h5\">Operating times</h3> <div class=\"description\"> <table class=\"info-table\"> <tbody> <tr> <td>Current season:</td> <td id=\"selSeason\"> 2021-11-27 - 2022-05-08 </td> </tr> <tr> <td>General season: </td> <td id=\"selGenseason\"> late November - early May<br/> </td> </tr> <tr> <td>Opening times: </td> <td id=\"selOperationtimes\">08:30 - 20:30 </td> </tr> <tr> <td colspan=\"2\"> Note: The openening times are provided by the ski resort Niseko United – Annupuri/​Grand Hirafu/​Hanazono/​Niseko Village and can vary based on external conditions, day of the week, school holidays and public holidays. </td> </tr> </tbody> </table> </div> </div> <div class=\"detail-links\"> <div class=\"label\">Ski holiday</div> <div class=\"description\" id=\"selLinkCustomer\"> Towns/villages at the ski resort (distance from town center): <ul class=\"detail-overview-citylist\"> <li><a href=\"https://www.skiresort.info/ski-holiday-in/hirafu-village-25606/\">Hirafu Village</a> (0.2 km)</li> <li><a href=\"https://www.skiresort.info/ski-holiday-in/niseko-village-4661/\">Niseko Village</a> (0.2 km)</li> <li><a href=\"https://www.skiresort.info/ski-holiday-in/hanazono-resort-25501/\">Hanazono Resort</a> (0.1 km)</li> <li><a href=\"https://www.skiresort.info/ski-holiday-in/annupuri-village-4662/\">Annupuri Village</a> (0.5 km)</li> <li><a href=\"https://www.skiresort.info/ski-holiday-in/yamada-4659/\">Yamada</a> (0.8 km)</li> <li><a href=\"https://www.skiresort.info/ski-holiday-in/niseko-838/\">Niseko</a> (6 km)</li> <li><a href=\"https://www.skiresort.info/ski-holiday-in/kutchan-4660/\">Kutchan</a> (7 km)</li> </ul> </div> </div> <div class=\"detail-links no-padding-bottom\"> <div class=\"no-padding-left\"> Feedback for the Skiresort.info Team? Please use <a class=\"fancybox\" data-fancybox-height=\"660\" data-fancybox-width=\"600\" href=\"#notification\" rel=\"nofollow\">this form »</a> </div> <style>\n",
      "\n",
      "    #loading,\n",
      "    #loadingBg {\n",
      "        display: none;\n",
      "    }\n",
      "\n",
      "    label.error {\n",
      "        margin: 0;\n",
      "        color: red;\n",
      "        margin-left: 1em;\n",
      "    }\n",
      "\n",
      "    .loading {\n",
      "        width: 100%;\n",
      "        height: 100%;\n",
      "        z-index: 10;\n",
      "        background-color:#666666;\n",
      "        opacity:0.95;\n",
      "        filter: alpha(opacity = 95);\n",
      "    }\n",
      "    #loading {\n",
      "        display: none;\n",
      "    }\n",
      "\n",
      "    #loading .text {\n",
      "        padding-top:200px;\n",
      "        color:white;\n",
      "        font-size:15px;\n",
      "        text-align:center;\n",
      "    }\n",
      "    @media (min-width: 668px) {\n",
      "        #notification {\n",
      "            min-width: 500px\n",
      "        }\n",
      "    }\n",
      "\n",
      "</style><script>\n",
      "    $(document).ready(function () {\n",
      "        $('#ContactForm').on('submit', function (e) {\n",
      "            var action = 'https://www.skiresort.info/send-notification/';\n",
      "            e.preventDefault();\n",
      "            var formData = new FormData(this);\n",
      "            $('#notification').addClass('loading')\n",
      "            $('#notification').width($('#ContactForm').width())\n",
      "            $('#notification').height($('#ContactForm').height())\n",
      "            $('#loading').show();\n",
      "            $('#ContactForm').html('');\n",
      "\n",
      "            $.ajax({\n",
      "                url: action, // point to server-side PHP script\n",
      "                dataType: 'text',  // what to expect back from the PHP script, if anything\n",
      "                cache: false,\n",
      "                contentType: false,\n",
      "                processData: false,\n",
      "                data: formData,\n",
      "                type: 'post',\n",
      "                success: function(res){\n",
      "                    $('#notification').removeClass('loading')\n",
      "                    $('#notification').html($('#response-content',res));\n",
      "                }\n",
      "            });\n",
      "\n",
      "\n",
      "        });\n",
      "    });\n",
      "\n",
      "</script><div id=\"notification\" style=\"display: none; position: relative\"> <form enctype=\"multipart/form-data\" id=\"ContactForm\" method=\"post\" role=\"form\"> <h1 class=\"h4\">Feedback/changes to Skiresort.info</h1> <p>URL being transmitted:<br> https://www.skiresort.info/ski-resort/niseko-united-annupurigrand-hirafuhanazononiseko-village/</br></p> <div class=\"form-group\"> <label class=\"control-label\" for=\"InputName\">Your Name*</label> <input class=\"form-control\" id=\"InputName\" name=\"tx_mgskiresort_pi1[name]\" type=\"text\"/> </div> <div class=\"form-group\"> <label for=\"InputEmail\">Your email address*</label> <input class=\"form-control\" id=\"InputEmail\" name=\"tx_mgskiresort_pi1[email]\" type=\"email\"/> </div> <div class=\"form-group\"> <label for=\"InputDesc\">Feedback/changes/error</label> <textarea class=\"form-control\" cols=\"25\" id=\"InputDesc\" name=\"tx_mgskiresort_pi1[desc]\" required=\"\" rows=\"5\"></textarea><div class=\"textarea-error\"></div> </div> <div class=\"form-group\"> <label for=\"InputFile\">Transfer file*</label> <input id=\"InputFile\" name=\"tx_mgskiresort_pi1[file]\" type=\"file\"/> </div> <button class=\"btn btn-default\" type=\"submit\">Send</button> <p style=\"margin-top: 1em; margin-bottom: 0;\">*optional</p> <input name=\"tx_mgskiresort_pi1[submit]\" type=\"hidden\" value=\"1\"> <input name=\"tx_mgskiresort_pi1[url]\" type=\"hidden\" value=\"https://www.skiresort.info/ski-resort/niseko-united-annupurigrand-hirafuhanazononiseko-village/\"> </input></input></form> <div id=\"loading\"> <div class=\"text\">Please wait and do not close window. File will be transmitted.</div> </div> </div> ski resort Niseko United – Annupuri/​Grand Hirafu/​Hanazono/​Niseko Village </div> <div class=\"aside resort-booking visible-xs\"> <div class=\"panel panel-primary picture-link-list visible-xs\"> <div class=\"panel-heading\">Book this ski resort</div> <ul class=\"list-group book-online\"> <li class=\"list-group-item\"> <a aria-label=\"Accommodation\" class=\"vertical-middle pic1\" href=\"https://www.skiresort.info/ski-resort/niseko-united-annupurigrand-hirafuhanazononiseko-village/accommodations/\"> <span><i class=\"bed-icon\"></i></span> </a> <a class=\"next-link\" href=\"https://www.skiresort.info/ski-resort/niseko-united-annupurigrand-hirafuhanazononiseko-village/accommodations/\">Accommodation</a> </li> </ul> </div> </div> <div class=\"mediavideo special-margin\"> <div class=\"video-element\" data-embed=\"nhi9h_puT0Y\" data-videotype=\"youtube\"> <span class=\"inview-element preview-image-loading\" data-offset=\"450\"></span> </div> </div> <div class=\"pa-mr-wrapper\"> <script type=\"text/javascript\"><!--\n",
      "\tif (moveSkyscraper) {\n",
      "\t\tif (window.OA_show) {\n",
      "\t\t\tOA_show('14');\n",
      "\t\t}\n",
      "\t\tdocument.write('<div class=\"promotionAdContainer\">');\n",
      "\n",
      "\t\tif (window.OA_show && OA_output['zone_15_ad_1'] != '') {\n",
      "\t\t\tdocument.write('<div class=\"col1\">');\n",
      "\t\t\tOA_show('zone_15_ad_1');\n",
      "\t\t\tdocument.write('</div>');\n",
      "\t\t}\n",
      "\n",
      "\t\tif (window.OA_show && OA_output['zone_15_ad_2'] != '') {\n",
      "\t\t\tdocument.write('<div class=\"col2\">');\n",
      "\t\t\tOA_show('zone_15_ad_2');\n",
      "\t\t\tdocument.write('</div>');\n",
      "\t\t}\n",
      "\n",
      "\t\tdocument.write('</div>');\n",
      "\t\tdocument.write('<div class=\"clear\"></div>');\n",
      "\t} else {\n",
      "\t\tdocument.write('<div class=\"promotionAdContainer\">');\n",
      "\n",
      "\t\tif (window.OA_show && OA_output['zone_15_ad_1'] != '') {\n",
      "\t\t\tdocument.write('<div class=\"col1\">');\n",
      "\t\t\tOA_show('zone_15_ad_1');\n",
      "\t\t\tdocument.write('</div>');\n",
      "\t\t}\n",
      "\n",
      "\t\tif (window.OA_show && OA_output['zone_15_ad_2'] != '') {\n",
      "\t\t\tdocument.write('<div class=\"col2\">');\n",
      "\t\t\tOA_show('zone_15_ad_2');\n",
      "\t\t\tdocument.write('</div>');\n",
      "\t\t}\n",
      "\n",
      "\t\tdocument.write('</div>');\n",
      "\t\tdocument.write('<div class=\"clear\"></div>');\n",
      "\t}\n",
      "\n",
      "//--></script></div> </div>>\n"
     ]
    }
   ],
   "source": [
    "description = []\n",
    "for url in url_list:\n",
    "        r = requests.get(url)\n",
    "        soup = BeautifulSoup(r.text, 'html.parser')\n",
    "        s = soup.find('div', class_='panel-simple more-padding').get_text\n",
    "        print(s)"
   ]
  },
  {
   "cell_type": "code",
   "execution_count": 28,
   "id": "d5d8328d",
   "metadata": {},
   "outputs": [
    {
     "name": "stdout",
     "output_type": "stream",
     "text": [
      "[<bound method Tag.get_text of <span class=\"js-more-text hidden\">Towns/villages at the ski resort (distance from town center): <a href=\"https://www.skiresort.info/ski-holiday-in/hirafu-village-25606/\">Hirafu Village</a> (0.2 km), <a href=\"https://www.skiresort.info/ski-holiday-in/niseko-village-4661/\">Niseko Village</a> (0.2 km), <a href=\"https://www.skiresort.info/ski-holiday-in/hanazono-resort-25501/\">Hanazono Resort</a> (0.1 km), <a href=\"https://www.skiresort.info/ski-holiday-in/annupuri-village-4662/\">Annupuri Village</a> (0.5 km), <a href=\"https://www.skiresort.info/ski-holiday-in/yamada-4659/\">Yamada</a> (0.8 km), <a href=\"https://www.skiresort.info/ski-holiday-in/niseko-838/\">Niseko</a> (6 km), <a href=\"https://www.skiresort.info/ski-holiday-in/kutchan-4660/\">Kutchan</a> (7 km)</span>>]\n"
     ]
    }
   ],
   "source": [
    "description = []\n",
    "for url in url_list:\n",
    "        r = requests.get(url)\n",
    "        soup = BeautifulSoup(r.text, 'html.parser')\n",
    "        s = soup.find('span', class_='js-more-text hidden').get_text\n",
    "        description.append(s)\n",
    "        print(description)"
   ]
  },
  {
   "cell_type": "code",
   "execution_count": null,
   "id": "9afc800e",
   "metadata": {},
   "outputs": [],
   "source": []
  },
  {
   "cell_type": "code",
   "execution_count": null,
   "id": "090990c3",
   "metadata": {},
   "outputs": [],
   "source": []
  },
  {
   "cell_type": "code",
   "execution_count": null,
   "id": "048ffd22",
   "metadata": {},
   "outputs": [],
   "source": []
  }
 ],
 "metadata": {
  "kernelspec": {
   "display_name": "Python 3",
   "language": "python",
   "name": "python3"
  },
  "language_info": {
   "codemirror_mode": {
    "name": "ipython",
    "version": 3
   },
   "file_extension": ".py",
   "mimetype": "text/x-python",
   "name": "python",
   "nbconvert_exporter": "python",
   "pygments_lexer": "ipython3",
   "version": "3.8.8"
  }
 },
 "nbformat": 4,
 "nbformat_minor": 5
}
